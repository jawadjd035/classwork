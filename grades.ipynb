{
 "cells": [
  {
   "cell_type": "code",
   "execution_count": null,
   "metadata": {},
   "outputs": [],
   "source": [
    "a=[[\"ahmad\",81],[\"ali\",77],[\"hamza\",87],[\"zaeem\",90],[\"bilal\",50]]"
   ]
  },
  {
   "cell_type": "code",
   "execution_count": null,
   "metadata": {},
   "outputs": [],
   "source": []
  },
  {
   "cell_type": "code",
   "execution_count": null,
   "metadata": {},
   "outputs": [],
   "source": [
    "employee =  {\"skills\" : \"a\"}\n",
    "x = input(\"How many values you want to enter\")\n",
    "x = int(x)\n",
    "\n",
    "\n",
    "for i in range(x):\n",
    "    skills = input(\"Enter your skill: \")\n",
    "    studentForm.append(skills)\n",
    "employee"
   ]
  },
  {
   "cell_type": "code",
   "execution_count": null,
   "metadata": {},
   "outputs": [],
   "source": [
    "employee"
   ]
  },
  {
   "cell_type": "code",
   "execution_count": null,
   "metadata": {},
   "outputs": [],
   "source": [
    "skills = []\n",
    "x = input(\"How many values you want to enter\")\n",
    "x = int(x)\n",
    "\n",
    "\n",
    "for i in range(x):\n",
    "    name = input(\"Enter your name: \")\n",
    "    skills.append([name])"
   ]
  },
  {
   "cell_type": "code",
   "execution_count": null,
   "metadata": {},
   "outputs": [],
   "source": [
    "a"
   ]
  },
  {
   "cell_type": "code",
   "execution_count": null,
   "metadata": {},
   "outputs": [],
   "source": [
    "studentForm = []\n",
    "x = input(\"How many values you want to enter: \")\n",
    "x=int(x)\n",
    "for i in range(x):\n",
    "    \n",
    "    employee = {'employee_Name': input(\"please enter your name: \"),\n",
    " 'age': int(input(\"please enter your age: \")),\n",
    " 'gender': input(\"please enter your gender: \"),\n",
    " 'Salary': input(\"please enter your salary: \"),\n",
    " 'teacher': input(\"please enter your teacher field: \"),\n",
    " \"skills\" : []\n",
    "               }\n",
    "\n",
    "    j = input(\"How many values you want to enter\")\n",
    "    j = int(j)\n",
    "    for k in range(j):\n",
    "        s = input(\"Enter your skill: \")\n",
    "        employee[\"skills\"].append(s)\n",
    "\n",
    "    \n",
    "    \n",
    "    studentForm.append(employee)\n",
    "studentForm"
   ]
  },
  {
   "cell_type": "code",
   "execution_count": null,
   "metadata": {},
   "outputs": [],
   "source": []
  },
  {
   "cell_type": "code",
   "execution_count": null,
   "metadata": {},
   "outputs": [],
   "source": [
    "    \n",
    "    j = input(\"How many values you want to enter\")\n",
    "    j = int(j)\n",
    "    for k in range(j):\n",
    "        s = input(\"Enter your skill: \")\n",
    "        employee[\"skills\"].append(s)"
   ]
  },
  {
   "cell_type": "code",
   "execution_count": null,
   "metadata": {},
   "outputs": [],
   "source": [
    "employee[\"skills\"]"
   ]
  },
  {
   "cell_type": "code",
   "execution_count": 20,
   "metadata": {},
   "outputs": [
    {
     "name": "stdout",
     "output_type": "stream",
     "text": [
      "How many values you want to enter: 1\n",
      "please enter your name: ahmad\n",
      "please enter your age: 23\n",
      "please enter your gender: male\n",
      "please enter your teacher field: ai\n",
      "please enter your degree title: bs\n",
      "please enter your degree major: computer science\n",
      "Please enter your degree complition datejan 2021\n",
      "please enter your salary: 350000\n",
      "Please Enter your no of skills: 2\n",
      "Enter your skill: sd\n",
      "Enter your skill: sdd\n"
     ]
    },
    {
     "data": {
      "text/plain": [
       "[{'employee_Name': 'ahmad',\n",
       "  'age': 23,\n",
       "  'gender': 'male',\n",
       "  'work': 'ai',\n",
       "  'skills': ['sd', 'sdd'],\n",
       "  'degree': {'title': 'bs',\n",
       "   'major': 'computer science',\n",
       "   'completionDate': 'jan 2021'},\n",
       "  'Salary': '350000'}]"
      ]
     },
     "execution_count": 20,
     "metadata": {},
     "output_type": "execute_result"
    }
   ],
   "source": [
    "studentForm = []\n",
    "x = input(\"How Many Values You Want To Enter: \")\n",
    "x=int(x)\n",
    "for i in range(x):\n",
    "    \n",
    "    employee = {\n",
    "        'employee_Name': input(\"Please Enter Your Name: \"),\n",
    " 'age': int(input(\"Please Enter Your Age: \")),\n",
    " 'work': input(\"PLease Enter Your Field of Work: \"),\n",
    " \"skills\" : [],\n",
    " \"degree\" : {'title' : input(\"Please Enter Your Degree Title: \"),\n",
    "               \"major\" : input(\"Please Enter Your Degree Major: \"),\n",
    "               \"completionDate\" : input(\"Please Enter Your Degree Complition Date\")},\n",
    " 'Salary': int(input(\"Please Enter Your Salary: \"))\n",
    "  }\n",
    "\n",
    "\n",
    "    j = input(\"Please Enter Your no Of Skills: \")\n",
    "    j = int(j)\n",
    "    for k in range(j):\n",
    "        s = input(\"Enter Your Skill: \")\n",
    "        employee[\"skills\"].append(s)\n",
    "\n",
    "    \n",
    "    \n",
    "    studentForm.append(employee)\n",
    "studentForm"
   ]
  },
  {
   "cell_type": "code",
   "execution_count": null,
   "metadata": {},
   "outputs": [],
   "source": [
    " degree = {\"title\" : input(\"please enter your degree title:\") , \"major\" : \"computer Science\", \"completionDate\" : \"Jun 2019\"}\n",
    "               "
   ]
  },
  {
   "cell_type": "code",
   "execution_count": null,
   "metadata": {},
   "outputs": [],
   "source": [
    "degree"
   ]
  },
  {
   "cell_type": "code",
   "execution_count": null,
   "metadata": {},
   "outputs": [],
   "source": [
    "employee2 = {'employee_Name': 'Rizwan',\n",
    "  'age': 23,\n",
    "  'gender': 'Male',\n",
    "  'Salary': 350000,\n",
    "  'Department': ['A.I', 'D.S'],\n",
    "  'subordinate': {'Fin': 'Ali', 'D.S': 'Fahad'}}"
   ]
  },
  {
   "cell_type": "code",
   "execution_count": 18,
   "metadata": {},
   "outputs": [
    {
     "data": {
      "text/plain": [
       "[{'employee_Name': 'ahmad',\n",
       "  'age': 23,\n",
       "  'gender': 'male',\n",
       "  'work': 'ai',\n",
       "  'skills': ['muther', 'bondu'],\n",
       "  'degree': {'title': 'bs',\n",
       "   'major': 'computer science',\n",
       "   'completionDate': '21 octuber 2019'},\n",
       "  'Salary': '34000'}]"
      ]
     },
     "execution_count": 18,
     "metadata": {},
     "output_type": "execute_result"
    }
   ],
   "source": [
    "studentForm"
   ]
  },
  {
   "cell_type": "code",
   "execution_count": 21,
   "metadata": {},
   "outputs": [
    {
     "name": "stdout",
     "output_type": "stream",
     "text": [
      "Waqas Faizan\tFaizan\n"
     ]
    }
   ],
   "source": [
    "print(\"Waqas\",\"Faizan\",end = \"\\t\")\n",
    "print(\"Faizan\")"
   ]
  },
  {
   "cell_type": "code",
   "execution_count": 92,
   "metadata": {},
   "outputs": [
    {
     "name": "stdout",
     "output_type": "stream",
     "text": [
      "Enter value for table: 1\n",
      "Enter value for table: 2\n",
      "\n",
      "\n",
      "1 * 1 = 1",
      "1 * 2 = 2",
      "1 * 3 = 3",
      "1 * 4 = 4",
      "1 * 5 = 5",
      "1 * 6 = 6",
      "1 * 7 = 7",
      "1 * 8 = 8",
      "1 * 9 = 9",
      "1 * 10 = 10",
      "\n",
      "\n",
      "2 * 1 = 2",
      "2 * 2 = 4",
      "2 * 3 = 6",
      "2 * 4 = 8",
      "2 * 5 = 10",
      "2 * 6 = 12",
      "2 * 7 = 14",
      "2 * 8 = 16",
      "2 * 9 = 18",
      "2 * 10 = 20"
     ]
    }
   ],
   "source": [
    "a = int(input(\"Enter value for table: \"))\n",
    "b = int(input(\"Enter value for table: \"))\n",
    "for i in range(a,b+1):\n",
    "    print(\"\\n\")\n",
    "    for j in range(1,10+1):\n",
    "        x = (f\"{i} * {j} = {i * j}\")\n",
    "        print (x ,end = \"\\x85\")"
   ]
  },
  {
   "cell_type": "code",
   "execution_count": null,
   "metadata": {},
   "outputs": [],
   "source": []
  },
  {
   "cell_type": "code",
   "execution_count": null,
   "metadata": {},
   "outputs": [],
   "source": []
  }
 ],
 "metadata": {
  "kernelspec": {
   "display_name": "Python 3",
   "language": "python",
   "name": "python3"
  },
  "language_info": {
   "codemirror_mode": {
    "name": "ipython",
    "version": 3
   },
   "file_extension": ".py",
   "mimetype": "text/x-python",
   "name": "python",
   "nbconvert_exporter": "python",
   "pygments_lexer": "ipython3",
   "version": "3.7.4"
  }
 },
 "nbformat": 4,
 "nbformat_minor": 2
}
